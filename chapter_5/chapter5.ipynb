{
 "cells": [
  {
   "cell_type": "code",
   "execution_count": 4,
   "metadata": {
    "ExecuteTime": {
     "end_time": "2019-06-27T01:32:11.989868Z",
     "start_time": "2019-06-27T01:32:11.971042Z"
    }
   },
   "outputs": [
    {
     "data": {
      "text/plain": [
       "0     2012/10/11\n",
       "1     2012/10/10\n",
       "2       2010/9/3\n",
       "3       2010/9/6\n",
       "4      2010/5/13\n",
       "5      2010/5/12\n",
       "6      2010/2/15\n",
       "7      2010/9/16\n",
       "8      2010/9/17\n",
       "9      2011/9/15\n",
       "10     2010/8/11\n",
       "11     2010/9/16\n",
       "12     2010/9/17\n",
       "13     2010/7/20\n",
       "14     2010/7/21\n",
       "15     2010/7/22\n",
       "16     2010/7/25\n",
       "17     2010/11/4\n",
       "18     2010/11/1\n",
       "19      2011/1/9\n",
       "20     2010/7/15\n",
       "21    2010/10/24\n",
       "22     2010/2/28\n",
       "23      2010/3/1\n",
       "24    2011/12/15\n",
       "Name: date, dtype: object"
      ]
     },
     "execution_count": 4,
     "metadata": {},
     "output_type": "execute_result"
    }
   ],
   "source": [
    "import pandas as pd\n",
    "alarm_data = pd.read_csv('03-实训数据/alarm.csv', sep = ',', encoding = 'gb18030')\n",
    "alarm_data['date']"
   ]
  }
 ],
 "metadata": {
  "kernelspec": {
   "display_name": "Python 3",
   "language": "python",
   "name": "python3"
  },
  "language_info": {
   "codemirror_mode": {
    "name": "ipython",
    "version": 3
   },
   "file_extension": ".py",
   "mimetype": "text/x-python",
   "name": "python",
   "nbconvert_exporter": "python",
   "pygments_lexer": "ipython3",
   "version": "3.7.3"
  },
  "latex_envs": {
   "LaTeX_envs_menu_present": true,
   "autoclose": false,
   "autocomplete": true,
   "bibliofile": "biblio.bib",
   "cite_by": "apalike",
   "current_citInitial": 1,
   "eqLabelWithNumbers": true,
   "eqNumInitial": 1,
   "hotkeys": {
    "equation": "Ctrl-E",
    "itemize": "Ctrl-I"
   },
   "labels_anchors": false,
   "latex_user_defs": false,
   "report_style_numbering": false,
   "user_envs_cfg": false
  },
  "toc": {
   "base_numbering": 1,
   "nav_menu": {},
   "number_sections": true,
   "sideBar": true,
   "skip_h1_title": false,
   "title_cell": "Table of Contents",
   "title_sidebar": "Contents",
   "toc_cell": false,
   "toc_position": {},
   "toc_section_display": true,
   "toc_window_display": false
  }
 },
 "nbformat": 4,
 "nbformat_minor": 2
}

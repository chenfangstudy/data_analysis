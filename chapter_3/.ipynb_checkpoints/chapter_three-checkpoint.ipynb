{
 "cells": [
  {
   "cell_type": "markdown",
   "metadata": {},
   "source": [
    "##  Matplotlib 数据可视化基础"
   ]
  },
  {
   "cell_type": "markdown",
   "metadata": {},
   "source": [
    "###  习题问题解决"
   ]
  },
  {
   "cell_type": "code",
   "execution_count": 2,
   "metadata": {
    "ExecuteTime": {
     "end_time": "2019-10-24T16:39:11.660150Z",
     "start_time": "2019-10-24T16:39:10.469259Z"
    }
   },
   "outputs": [
    {
     "data": {
      "text/plain": [
       "<Figure size 1600x1600 with 17 Axes>"
      ]
     },
     "metadata": {},
     "output_type": "display_data"
    }
   ],
   "source": [
    "import numpy as np\n",
    "import matplotlib.pyplot as plt\n",
    "iris = np.load('02-习题程序/data/iris.npz',allow_pickle=True)['data'][:, :-1]\n",
    "name = np.load('02-习题程序/data/iris.npz',allow_pickle=True)['features_name']\n",
    "plt.rcParams['font.sans-serif'] = 'SimHei'\n",
    "p = plt.figure(figsize=(16,16)) ##设置画布\n",
    "plt.title('iris散点图矩阵')\n",
    "for i in range(4):\n",
    "    for j in range(4):\n",
    "        p.add_subplot(4,4,(i*4)+(j+1))\n",
    "        plt.scatter(iris[:,i],iris[:,j])## 绘制散点图\n",
    "        plt.xlabel(name[i])\n",
    "        plt.ylabel(name[j])\n",
    "\n",
    "plt.show()\n"
   ]
  },
  {
   "cell_type": "code",
   "execution_count": 11,
   "metadata": {
    "ExecuteTime": {
     "end_time": "2019-06-12T02:51:38.531946Z",
     "start_time": "2019-06-12T02:51:38.284762Z"
    }
   },
   "outputs": [
    {
     "name": "stdout",
     "output_type": "stream",
     "text": [
      "[-0.43768567 -0.92997315  1.50052542 -0.15287979  0.85161763 -0.21893466\n",
      "  0.0444105  -0.01812706 -1.65037009  0.32374022  1.43388094  0.4115643\n",
      " -1.68019919 -0.5009875  -1.84412194 -2.05115009  1.21088807  1.6443847\n",
      "  0.77650241  1.34136806 -0.57997112 -0.53138608 -0.12380739 -0.7771197\n",
      "  1.1771465   0.94031948 -1.26144955 -0.14601637  0.17512427  0.40243001\n",
      "  0.87113745 -0.46258767 -1.93626111 -1.72957822 -0.4021264  -1.97756063\n",
      " -0.7853516   0.90011502  1.56998023 -0.9285056   0.11312279 -0.44360457\n",
      " -0.14741418 -0.96322324  1.83675458  0.43501124  0.9596534   0.60670569\n",
      "  0.23922237  1.45137231 -0.11656279  0.93070051  1.04390409 -0.16672431\n",
      "  0.04160478  1.75313778  2.94144544 -1.95123412 -0.21608338 -0.91121077\n",
      " -0.00637839  0.7529793   0.18426016 -1.44363336  0.55873517 -0.57852939\n",
      " -1.71452404  0.04867249  0.11865067 -0.1700636  -0.47611606  0.68768747\n",
      "  0.86280432 -0.2047065   0.32711164  0.96604066  1.64365415  0.27316079\n",
      " -1.06219119  0.25082388 -0.53225258 -1.29724911 -0.27283359  0.01092406\n",
      " -1.62867426 -0.36082777 -1.02211303  1.82637379 -1.26518759 -0.06493196\n",
      " -0.56790518  0.89286193  1.20912744 -0.50562603 -0.07834537  0.14579131\n",
      " -0.30042935 -0.94152001  0.96797392 -0.21241385]\n"
     ]
    },
    {
     "name": "stderr",
     "output_type": "stream",
     "text": [
      "/usr/local/lib64/python3.7/site-packages/matplotlib/backends/backend_agg.py:211: RuntimeWarning: Glyph 8722 missing from current font.\n",
      "  font.set_text(s, 0.0, flags=flags)\n",
      "/usr/local/lib64/python3.7/site-packages/matplotlib/backends/backend_agg.py:180: RuntimeWarning: Glyph 8722 missing from current font.\n",
      "  font.set_text(s, 0, flags=flags)\n"
     ]
    },
    {
     "data": {
      "image/png": "[encoded data removed]",
      "text/plain": [
       "<Figure size 432x288 with 1 Axes>"
      ]
     },
     "metadata": {
      "needs_background": "light"
     },
     "output_type": "display_data"
    }
   ],
   "source": [
    "#箱线图\n",
    "import numpy as np\n",
    "import matplotlib.pyplot as plt\n",
    "data = np.random.normal(size =100 , loc = 0 , scale = 1)\n",
    "plt.boxplot(data , sym='o' , whis=0.05)\n",
    "print(data)\n",
    "plt.show()"
   ]
  },
  {
   "cell_type": "markdown",
   "metadata": {},
   "source": [
    "###  实训"
   ]
  },
  {
   "cell_type": "code",
   "execution_count": 12,
   "metadata": {
    "ExecuteTime": {
     "end_time": "2019-10-24T16:44:08.128130Z",
     "start_time": "2019-10-24T16:44:08.119051Z"
    }
   },
   "outputs": [
    {
     "name": "stdout",
     "output_type": "stream",
     "text": [
      "[['2015年' 137462.0 70414.0 67048.0 77116.0 60346.0]\n",
      " ['2014年' 136782.0 70079.0 66703.0 74916.0 61866.0]\n",
      " ['2013年' 136072.0 69728.0 66344.0 73111.0 62961.0]\n",
      " ['2012年' 135404.0 69395.0 66009.0 71182.0 64222.0]\n",
      " ['2011年' 134735.0 69068.0 65667.0 69079.0 65656.0]\n",
      " ['2010年' 134091.0 68748.0 65343.0 66978.0 67113.0]\n",
      " ['2009年' 133450.0 68647.0 64803.0 64512.0 68938.0]\n",
      " ['2008年' 132802.0 68357.0 64445.0 62403.0 70399.0]\n",
      " ['2007年' 132129.0 68048.0 64081.0 60633.0 71496.0]\n",
      " ['2006年' 131448.0 67728.0 63720.0 58288.0 73160.0]\n",
      " ['2005年' 130756.0 67375.0 63381.0 56212.0 74544.0]\n",
      " ['2004年' 129988.0 66976.0 63012.0 54283.0 75705.0]\n",
      " ['2003年' 129227.0 66556.0 62671.0 52376.0 76851.0]\n",
      " ['2002年' 128453.0 66115.0 62338.0 50212.0 78241.0]\n",
      " ['2001年' 127627.0 65672.0 61955.0 48064.0 79563.0]\n",
      " ['2000年' 126743.0 65437.0 61306.0 45906.0 80837.0]\n",
      " ['1999年' 125786.0 64692.0 61094.0 43748.0 82038.0]\n",
      " ['1998年' 124761.0 63940.0 60821.0 41608.0 83153.0]\n",
      " ['1997年' 123626.0 63131.0 60495.0 39449.0 84177.0]\n",
      " ['1996年' 122389.0 62200.0 60189.0 37304.0 85085.0]]\n"
     ]
    }
   ],
   "source": [
    "##关于 population数据问题\n",
    "#读取的时候 encoding=‘latin1’\n",
    "population_db = np.load('03-practical_training/populations.npz',allow_pickle=True, encoding='latin1')\n",
    "\n",
    "#这个数据没有columns和alue，取而代的是data和feature_names\n",
    "#print(population_db.files)\n",
    "#print(population_db['feature_names'])\n",
    "print(np.mat(population_db['data'][0:-2,]))\n"
   ]
  }
 ],
 "metadata": {
  "kernelspec": {
   "display_name": "Python 3",
   "language": "python",
   "name": "python3"
  },
  "language_info": {
   "codemirror_mode": {
    "name": "ipython",
    "version": 3
   },
   "file_extension": ".py",
   "mimetype": "text/x-python",
   "name": "python",
   "nbconvert_exporter": "python",
   "pygments_lexer": "ipython3",
   "version": "3.7.4"
  },
  "latex_envs": {
   "LaTeX_envs_menu_present": true,
   "autoclose": false,
   "autocomplete": true,
   "bibliofile": "biblio.bib",
   "cite_by": "apalike",
   "current_citInitial": 1,
   "eqLabelWithNumbers": true,
   "eqNumInitial": 1,
   "hotkeys": {
    "equation": "Ctrl-E",
    "itemize": "Ctrl-I"
   },
   "labels_anchors": false,
   "latex_user_defs": false,
   "report_style_numbering": false,
   "user_envs_cfg": false
  },
  "toc": {
   "base_numbering": 1,
   "nav_menu": {},
   "number_sections": true,
   "sideBar": true,
   "skip_h1_title": false,
   "title_cell": "Table of Contents",
   "title_sidebar": "Contents",
   "toc_cell": false,
   "toc_position": {},
   "toc_section_display": true,
   "toc_window_display": false
  }
 },
 "nbformat": 4,
 "nbformat_minor": 2
}

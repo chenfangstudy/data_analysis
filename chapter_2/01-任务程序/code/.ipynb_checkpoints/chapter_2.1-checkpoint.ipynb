{
 "cells": [
  {
   "cell_type": "markdown",
   "metadata": {},
   "source": [
    "## 任务2.1 掌握NumPy数组对象ndarray"
   ]
  },
  {
   "cell_type": "code",
   "execution_count": 76,
   "metadata": {
    "ExecuteTime": {
     "end_time": "2019-10-23T17:33:18.327870Z",
     "start_time": "2019-10-23T17:33:18.317153Z"
    },
    "scrolled": true
   },
   "outputs": [
    {
     "name": "stdout",
     "output_type": "stream",
     "text": [
      "创建的数组为： [1 2 3 4]\n",
      "创建的第二个数组为:\n",
      " [[ 1  2  3  4]\n",
      " [ 4  5  6  7]\n",
      " [ 7  8  9 10]]\n",
      "数据的形状为: (4,) (3, 4)\n",
      "数据的类型为: int64\n",
      "数组的元素的个数为: 12\n"
     ]
    }
   ],
   "source": [
    "import numpy as np # 导入NumPy库\n",
    "import matplotlib.mlab as mlab\n",
    "import matplotlib.pyplot as plt\n",
    "from scipy.stats import norm\n",
    "arr_1 = np.array([1, 2, 3, 4])\n",
    "print('创建的数组为：', arr_1)\n",
    "\n",
    "arr_2 = np.array([[1, 2, 3, 4], [4, 5, 6, 7], [7, 8, 9, 10]])\n",
    "print('创建的第二个数组为:\\n', arr_2)\n",
    "\n",
    "print('数据的形状为:', arr_1.shape,arr_2.shape)\n",
    "\n",
    "print('数据的类型为:', arr_1.dtype)\n",
    "\n",
    "print('数组的元素的个数为:', arr_2.size)"
   ]
  },
  {
   "cell_type": "code",
   "execution_count": null,
   "metadata": {},
   "outputs": [],
   "source": []
  },
  {
   "cell_type": "markdown",
   "metadata": {},
   "source": [
    "## 重置代码shape属性"
   ]
  },
  {
   "cell_type": "code",
   "execution_count": 9,
   "metadata": {
    "ExecuteTime": {
     "end_time": "2019-10-23T15:14:57.571240Z",
     "start_time": "2019-10-23T15:14:57.564499Z"
    }
   },
   "outputs": [
    {
     "name": "stdout",
     "output_type": "stream",
     "text": [
      "重置shape属性之后的结果为: \n",
      " [[ 1  2  3]\n",
      " [ 4  4  5]\n",
      " [ 6  7  7]\n",
      " [ 8  9 10]]\n"
     ]
    }
   ],
   "source": [
    "arr_2.shape = 4, 3\n",
    "print('重置shape属性之后的结果为: \\n', arr_2)"
   ]
  },
  {
   "cell_type": "markdown",
   "metadata": {},
   "source": [
    "## 使用arang函数创建数组"
   ]
  },
  {
   "cell_type": "code",
   "execution_count": 11,
   "metadata": {
    "ExecuteTime": {
     "end_time": "2019-10-23T15:17:43.274857Z",
     "start_time": "2019-10-23T15:17:43.267070Z"
    }
   },
   "outputs": [
    {
     "name": "stdout",
     "output_type": "stream",
     "text": [
      "使用arrange函数创建的数组为:\n",
      " [0.  0.1 0.2 0.3 0.4 0.5 0.6 0.7 0.8 0.9]\n"
     ]
    }
   ],
   "source": [
    "print('使用arrange函数创建的数组为:\\n', np.arange(0, 1, 0.1))"
   ]
  },
  {
   "cell_type": "code",
   "execution_count": 15,
   "metadata": {
    "ExecuteTime": {
     "end_time": "2019-10-23T15:22:14.454678Z",
     "start_time": "2019-10-23T15:22:14.446023Z"
    }
   },
   "outputs": [
    {
     "name": "stdout",
     "output_type": "stream",
     "text": [
      "使用linspace函数创建的数组为：\n",
      " [0.         0.09090909 0.18181818 0.27272727 0.36363636 0.45454545\n",
      " 0.54545455 0.63636364 0.72727273 0.81818182 0.90909091 1.        ]\n"
     ]
    },
    {
     "data": {
      "text/plain": [
       "0.09090909090909091"
      ]
     },
     "execution_count": 15,
     "metadata": {},
     "output_type": "execute_result"
    }
   ],
   "source": [
    "print('使用linspace函数创建的数组为：\\n', np.linspace(0, 1, 12))\n",
    "1/11  # 这说明这个还是0到1的等差数列"
   ]
  },
  {
   "cell_type": "code",
   "execution_count": 20,
   "metadata": {
    "ExecuteTime": {
     "end_time": "2019-10-23T15:26:56.723756Z",
     "start_time": "2019-10-23T15:26:56.714714Z"
    }
   },
   "outputs": [
    {
     "name": "stdout",
     "output_type": "stream",
     "text": [
      "使用logspace函数创建等比数列:\n",
      " [  1.           1.27427499   1.62377674   2.06913808   2.6366509\n",
      "   3.35981829   4.2813324    5.45559478   6.95192796   8.8586679\n",
      "  11.28837892  14.38449888  18.32980711  23.35721469  29.76351442\n",
      "  37.92690191  48.32930239  61.58482111  78.47599704 100.        ]\n"
     ]
    },
    {
     "data": {
      "text/plain": [
       "1.2742749857031337"
      ]
     },
     "execution_count": 20,
     "metadata": {},
     "output_type": "execute_result"
    }
   ],
   "source": [
    "print('使用logspace函数创建等比数列:\\n', np.logspace(0, 2, 20))\n",
    "100**(1/19) # 这就是一个简单的等比数列，不要想多了"
   ]
  },
  {
   "cell_type": "code",
   "execution_count": 26,
   "metadata": {
    "ExecuteTime": {
     "end_time": "2019-10-23T15:35:24.969670Z",
     "start_time": "2019-10-23T15:35:24.958574Z"
    }
   },
   "outputs": [
    {
     "name": "stdout",
     "output_type": "stream",
     "text": [
      "0数组:\n",
      " [[0. 0. 0. 0. 0.]\n",
      " [0. 0. 0. 0. 0.]]\n",
      "使用eye创建单位矩阵:\n",
      " [[1. 0. 0. 0.]\n",
      " [0. 1. 0. 0.]\n",
      " [0. 0. 1. 0.]\n",
      " [0. 0. 0. 1.]]\n",
      "使用diag函数创建对角矩阵:\n",
      " [[1 0 0 0]\n",
      " [0 3 0 0]\n",
      " [0 0 4 0]\n",
      " [0 0 0 6]]\n",
      "创建全为1的矩阵:\n",
      " [[1. 1. 1. 1.]\n",
      " [1. 1. 1. 1.]\n",
      " [1. 1. 1. 1.]\n",
      " [1. 1. 1. 1.]\n",
      " [1. 1. 1. 1.]]\n"
     ]
    }
   ],
   "source": [
    "print('0数组:\\n', np.zeros((2,5)))\n",
    "\n",
    "print('使用eye创建单位矩阵:\\n', np.eye(4))\n",
    "\n",
    "print('使用diag函数创建对角矩阵:\\n', np.diag((1, 3, 4, 6)))\n",
    "\n",
    "print('创建全为1的矩阵:\\n', np.ones((5,4)))"
   ]
  },
  {
   "cell_type": "code",
   "execution_count": 31,
   "metadata": {
    "ExecuteTime": {
     "end_time": "2019-10-23T15:39:56.399051Z",
     "start_time": "2019-10-23T15:39:56.392395Z"
    }
   },
   "outputs": [
    {
     "name": "stdout",
     "output_type": "stream",
     "text": [
      "整型转为浮点型: 24.0\n",
      "2\n",
      "True\n",
      "1.0\n"
     ]
    }
   ],
   "source": [
    "print('整型转为浮点型:', np.float64(24))\n",
    "\n",
    "print(np.int8(2.4))\n",
    "\n",
    "print(np.bool(3))\n",
    "\n",
    "print(np.float(True))\n"
   ]
  },
  {
   "cell_type": "code",
   "execution_count": 39,
   "metadata": {
    "ExecuteTime": {
     "end_time": "2019-10-23T15:49:00.779737Z",
     "start_time": "2019-10-23T15:49:00.770976Z"
    }
   },
   "outputs": [
    {
     "name": "stdout",
     "output_type": "stream",
     "text": [
      "[('name', '<U40'), ('numitems', '<i8'), ('price', '<f8')]\n",
      "<U40\n",
      "<U40\n",
      "[4.14 1.72]\n"
     ]
    }
   ],
   "source": [
    "df = np.dtype([(\"name\", np.str_, 40), (\"numitems\", np.int64), (\"price\", np.float64)])\n",
    "print(df)\n",
    "\n",
    "print(df[\"name\"])\n",
    "print( np.dtype(df[\"name\"]))\n",
    "\n",
    "itemz = np.array([(\"tomatoes\", 42, 4.14), (\"cabbages\", 13, 1.72)], dtype=df)\n",
    "print(itemz[\"price\"])"
   ]
  },
  {
   "cell_type": "code",
   "execution_count": 93,
   "metadata": {
    "ExecuteTime": {
     "end_time": "2019-10-23T17:49:16.500540Z",
     "start_time": "2019-10-23T17:49:16.149747Z"
    }
   },
   "outputs": [
    {
     "name": "stdout",
     "output_type": "stream",
     "text": [
      "[7.02252700e-04 3.40066069e-02 6.73109612e-02 1.00615315e-01\n",
      " 1.33919670e-01 1.67224024e-01 2.00528378e-01 2.33832732e-01\n",
      " 2.67137087e-01 3.00441441e-01 3.33745795e-01 3.67050149e-01\n",
      " 4.00354503e-01 4.33658858e-01 4.66963212e-01 5.00267566e-01\n",
      " 5.33571920e-01 5.66876275e-01 6.00180629e-01 6.33484983e-01\n",
      " 6.66789337e-01 7.00093692e-01 7.33398046e-01 7.66702400e-01\n",
      " 8.00006754e-01 8.33311108e-01 8.66615463e-01 8.99919817e-01\n",
      " 9.33224171e-01 9.66528525e-01 9.99832880e-01]\n"
     ]
    },
    {
     "data": {
      "image/png": "[encoded data removed]",
      "text/plain": [
       "<Figure size 432x288 with 1 Axes>"
      ]
     },
     "metadata": {
      "needs_background": "light"
     },
     "output_type": "display_data"
    }
   ],
   "source": [
    "#print(np.random.random(10))\n",
    "num_bins = 30 #直方图柱子的数量\n",
    "\n",
    "x = np.random.rand(5000)\n",
    "\n",
    "#print(np.random.randn(10, 5))\n",
    "\n",
    "n, bins, patches = plt.hist(x, num_bins, facecolor='blue', alpha=0.3)\n",
    "print(bins)"
   ]
  },
  {
   "cell_type": "code",
   "execution_count": 98,
   "metadata": {
    "ExecuteTime": {
     "end_time": "2019-10-23T17:50:39.722529Z",
     "start_time": "2019-10-23T17:50:39.351420Z"
    }
   },
   "outputs": [
    {
     "name": "stderr",
     "output_type": "stream",
     "text": [
      "/usr/local/lib/python3.7/site-packages/ipykernel_launcher.py:2: MatplotlibDeprecationWarning: \n",
      "The 'normed' kwarg was deprecated in Matplotlib 2.1 and will be removed in 3.1. Use 'density' instead.\n",
      "  \n"
     ]
    },
    {
     "data": {
      "text/plain": [
       "[<matplotlib.lines.Line2D at 0x7efd34561450>]"
      ]
     },
     "execution_count": 98,
     "metadata": {},
     "output_type": "execute_result"
    },
    {
     "data": {
      "image/png": "[encoded data removed]",
      "text/plain": [
       "<Figure size 432x288 with 1 Axes>"
      ]
     },
     "metadata": {
      "needs_background": "light"
     },
     "output_type": "display_data"
    }
   ],
   "source": [
    "x = np.random.randn(1000)\n",
    "n, bins, patches = plt.hist(x, num_bins, normed=1, facecolor='blue', alpha=0.3)\n",
    "mu = np.mean(x)\n",
    "sigma = np.std(x)\n",
    "\n",
    "y = norm.pdf(bins, mu, sigma)#拟合一条最佳正态分布曲线y \n",
    "plt.plot(bins, y, 'r--')"
   ]
  },
  {
   "cell_type": "code",
   "execution_count": 112,
   "metadata": {
    "ExecuteTime": {
     "end_time": "2019-10-23T23:22:54.678758Z",
     "start_time": "2019-10-23T23:22:54.388789Z"
    }
   },
   "outputs": [
    {
     "name": "stdout",
     "output_type": "stream",
     "text": [
      "[0.25 0.38 0.26 0.32 0.31 0.39 0.32 0.25 0.3  0.27]\n"
     ]
    },
    {
     "data": {
      "image/png": "[encoded data removed]",
      "text/plain": [
       "<Figure size 432x288 with 1 Axes>"
      ]
     },
     "metadata": {
      "needs_background": "light"
     },
     "output_type": "display_data"
    }
   ],
   "source": [
    "x = np.random.uniform(2, 3, 100)\n",
    "plt.hist(x)\n",
    "n = 100\n",
    "# np.random.binomial\n",
    "x = np.random.binomial(n,1/3,10)\n",
    "print(x/n)\n"
   ]
  },
  {
   "cell_type": "code",
   "execution_count": 145,
   "metadata": {
    "ExecuteTime": {
     "end_time": "2019-10-24T10:38:25.686722Z",
     "start_time": "2019-10-24T10:38:25.670310Z"
    }
   },
   "outputs": [
    {
     "name": "stdout",
     "output_type": "stream",
     "text": [
      "[0 1 2 3 4 5 6 7 8 9]\n",
      "9\n"
     ]
    },
    {
     "data": {
      "text/plain": [
       "array([4, 5])"
      ]
     },
     "execution_count": 145,
     "metadata": {},
     "output_type": "execute_result"
    }
   ],
   "source": [
    "arr = np.arange(10)\n",
    "print(arr)\n",
    "print(arr[9])\n",
    "arr[6: 9]\n",
    "arr[: -1]\n",
    "arr[2:4] = 100, 101\n",
    "arr/10\n",
    "np.zeros_like(arr)\n",
    "np.abs(-1)\n",
    "# ?np.ravel\n",
    "x = np.arange(0, 10, 2) \n",
    "arr[x]\n",
    "arr = np.array([[1, 2, 3, 4, 5], [4, 5, 6, 7, 8], [7, 8, 9, 10, 11]])\n",
    "arr[0, 3:5]"
   ]
  },
  {
   "cell_type": "code",
   "execution_count": 152,
   "metadata": {
    "ExecuteTime": {
     "end_time": "2019-10-24T14:13:42.826569Z",
     "start_time": "2019-10-24T14:13:42.815786Z"
    }
   },
   "outputs": [
    {
     "name": "stdout",
     "output_type": "stream",
     "text": [
      "[[ 0  3  6  9]\n",
      " [12 15 18 21]\n",
      " [24 27 30 33]]\n"
     ]
    },
    {
     "data": {
      "text/plain": [
       "array([[ 0,  1,  2,  3],\n",
       "       [ 4,  5,  6,  7],\n",
       "       [ 8,  9, 10, 11],\n",
       "       [ 0,  3,  6,  9],\n",
       "       [12, 15, 18, 21],\n",
       "       [24, 27, 30, 33]])"
      ]
     },
     "execution_count": 152,
     "metadata": {},
     "output_type": "execute_result"
    }
   ],
   "source": [
    "arr_1 = np.arange(12).reshape(3, 4)\n",
    "arr_1\n",
    "arr_2 = arr_1 * 3\n",
    "print(arr_2)\n",
    "np.vstack((arr_1, arr_2))"
   ]
  }
 ],
 "metadata": {
  "kernelspec": {
   "display_name": "Python 3",
   "language": "python",
   "name": "python3"
  },
  "language_info": {
   "codemirror_mode": {
    "name": "ipython",
    "version": 3
   },
   "file_extension": ".py",
   "mimetype": "text/x-python",
   "name": "python",
   "nbconvert_exporter": "python",
   "pygments_lexer": "ipython3",
   "version": "3.7.4"
  },
  "latex_envs": {
   "LaTeX_envs_menu_present": true,
   "autoclose": false,
   "autocomplete": true,
   "bibliofile": "biblio.bib",
   "cite_by": "apalike",
   "current_citInitial": 1,
   "eqLabelWithNumbers": true,
   "eqNumInitial": 1,
   "hotkeys": {
    "equation": "Ctrl-E",
    "itemize": "Ctrl-I"
   },
   "labels_anchors": false,
   "latex_user_defs": false,
   "report_style_numbering": false,
   "user_envs_cfg": false
  },
  "toc": {
   "base_numbering": 1,
   "nav_menu": {},
   "number_sections": true,
   "sideBar": true,
   "skip_h1_title": false,
   "title_cell": "Table of Contents",
   "title_sidebar": "Contents",
   "toc_cell": false,
   "toc_position": {},
   "toc_section_display": true,
   "toc_window_display": false
  }
 },
 "nbformat": 4,
 "nbformat_minor": 2
}
